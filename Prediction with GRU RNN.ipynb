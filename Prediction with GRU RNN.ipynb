{
 "cells": [
  {
   "cell_type": "code",
   "execution_count": 1,
   "metadata": {
    "scrolled": false
   },
   "outputs": [
    {
     "name": "stderr",
     "output_type": "stream",
     "text": [
      "Using TensorFlow backend.\n"
     ]
    }
   ],
   "source": [
    "import pandas as pd\n",
    "import numpy as np\n",
    "import matplotlib.pyplot as plt\n",
    "import matplotlib.dates as mdates\n",
    "from keras.models import Sequential\n",
    "from keras.layers import Dense, Dropout,GRU\n",
    "from keras import optimizers \n",
    "from sklearn.preprocessing import MinMaxScaler\n",
    "\n",
    "seed = 1234\n",
    "np.random.seed(seed)\n",
    "plt.style.use('ggplot')"
   ]
  },
  {
   "cell_type": "markdown",
   "metadata": {},
   "source": [
    "# Import Data"
   ]
  },
  {
   "cell_type": "code",
   "execution_count": 2,
   "metadata": {
    "scrolled": true
   },
   "outputs": [
    {
     "data": {
      "text/html": [
       "<div>\n",
       "<style scoped>\n",
       "    .dataframe tbody tr th:only-of-type {\n",
       "        vertical-align: middle;\n",
       "    }\n",
       "\n",
       "    .dataframe tbody tr th {\n",
       "        vertical-align: top;\n",
       "    }\n",
       "\n",
       "    .dataframe thead th {\n",
       "        text-align: right;\n",
       "    }\n",
       "</style>\n",
       "<table border=\"1\" class=\"dataframe\">\n",
       "  <thead>\n",
       "    <tr style=\"text-align: right;\">\n",
       "      <th></th>\n",
       "      <th>Open</th>\n",
       "      <th>High</th>\n",
       "      <th>Low</th>\n",
       "      <th>Close</th>\n",
       "      <th>Adj Close</th>\n",
       "      <th>Volume</th>\n",
       "    </tr>\n",
       "    <tr>\n",
       "      <th>Date</th>\n",
       "      <th></th>\n",
       "      <th></th>\n",
       "      <th></th>\n",
       "      <th></th>\n",
       "      <th></th>\n",
       "      <th></th>\n",
       "    </tr>\n",
       "  </thead>\n",
       "  <tbody>\n",
       "    <tr>\n",
       "      <td>2014-09-17</td>\n",
       "      <td>465.864014</td>\n",
       "      <td>468.174011</td>\n",
       "      <td>452.421997</td>\n",
       "      <td>457.334015</td>\n",
       "      <td>457.334015</td>\n",
       "      <td>21056800</td>\n",
       "    </tr>\n",
       "    <tr>\n",
       "      <td>2014-09-18</td>\n",
       "      <td>456.859985</td>\n",
       "      <td>456.859985</td>\n",
       "      <td>413.104004</td>\n",
       "      <td>424.440002</td>\n",
       "      <td>424.440002</td>\n",
       "      <td>34483200</td>\n",
       "    </tr>\n",
       "    <tr>\n",
       "      <td>2014-09-19</td>\n",
       "      <td>424.102997</td>\n",
       "      <td>427.834991</td>\n",
       "      <td>384.532013</td>\n",
       "      <td>394.795990</td>\n",
       "      <td>394.795990</td>\n",
       "      <td>37919700</td>\n",
       "    </tr>\n",
       "    <tr>\n",
       "      <td>2014-09-20</td>\n",
       "      <td>394.673004</td>\n",
       "      <td>423.295990</td>\n",
       "      <td>389.882996</td>\n",
       "      <td>408.903992</td>\n",
       "      <td>408.903992</td>\n",
       "      <td>36863600</td>\n",
       "    </tr>\n",
       "    <tr>\n",
       "      <td>2014-09-21</td>\n",
       "      <td>408.084991</td>\n",
       "      <td>412.425995</td>\n",
       "      <td>393.181000</td>\n",
       "      <td>398.821014</td>\n",
       "      <td>398.821014</td>\n",
       "      <td>26580100</td>\n",
       "    </tr>\n",
       "    <tr>\n",
       "      <td>...</td>\n",
       "      <td>...</td>\n",
       "      <td>...</td>\n",
       "      <td>...</td>\n",
       "      <td>...</td>\n",
       "      <td>...</td>\n",
       "      <td>...</td>\n",
       "    </tr>\n",
       "    <tr>\n",
       "      <td>2020-07-05</td>\n",
       "      <td>9126.090820</td>\n",
       "      <td>9162.183594</td>\n",
       "      <td>8977.015625</td>\n",
       "      <td>9073.942383</td>\n",
       "      <td>9073.942383</td>\n",
       "      <td>12903406143</td>\n",
       "    </tr>\n",
       "    <tr>\n",
       "      <td>2020-07-06</td>\n",
       "      <td>9072.849609</td>\n",
       "      <td>9375.474609</td>\n",
       "      <td>9058.664063</td>\n",
       "      <td>9375.474609</td>\n",
       "      <td>9375.474609</td>\n",
       "      <td>17889263252</td>\n",
       "    </tr>\n",
       "    <tr>\n",
       "      <td>2020-07-07</td>\n",
       "      <td>9349.161133</td>\n",
       "      <td>9360.617188</td>\n",
       "      <td>9201.815430</td>\n",
       "      <td>9252.277344</td>\n",
       "      <td>9252.277344</td>\n",
       "      <td>13839652595</td>\n",
       "    </tr>\n",
       "    <tr>\n",
       "      <td>2020-07-08</td>\n",
       "      <td>9253.020508</td>\n",
       "      <td>9450.335938</td>\n",
       "      <td>9249.500000</td>\n",
       "      <td>9428.333008</td>\n",
       "      <td>9428.333008</td>\n",
       "      <td>19702359883</td>\n",
       "    </tr>\n",
       "    <tr>\n",
       "      <td>2020-07-09</td>\n",
       "      <td>9431.378906</td>\n",
       "      <td>9431.378906</td>\n",
       "      <td>9355.678711</td>\n",
       "      <td>9357.105469</td>\n",
       "      <td>9357.105469</td>\n",
       "      <td>18319519744</td>\n",
       "    </tr>\n",
       "  </tbody>\n",
       "</table>\n",
       "<p>2123 rows × 6 columns</p>\n",
       "</div>"
      ],
      "text/plain": [
       "                   Open         High          Low        Close    Adj Close  \\\n",
       "Date                                                                          \n",
       "2014-09-17   465.864014   468.174011   452.421997   457.334015   457.334015   \n",
       "2014-09-18   456.859985   456.859985   413.104004   424.440002   424.440002   \n",
       "2014-09-19   424.102997   427.834991   384.532013   394.795990   394.795990   \n",
       "2014-09-20   394.673004   423.295990   389.882996   408.903992   408.903992   \n",
       "2014-09-21   408.084991   412.425995   393.181000   398.821014   398.821014   \n",
       "...                 ...          ...          ...          ...          ...   \n",
       "2020-07-05  9126.090820  9162.183594  8977.015625  9073.942383  9073.942383   \n",
       "2020-07-06  9072.849609  9375.474609  9058.664063  9375.474609  9375.474609   \n",
       "2020-07-07  9349.161133  9360.617188  9201.815430  9252.277344  9252.277344   \n",
       "2020-07-08  9253.020508  9450.335938  9249.500000  9428.333008  9428.333008   \n",
       "2020-07-09  9431.378906  9431.378906  9355.678711  9357.105469  9357.105469   \n",
       "\n",
       "                 Volume  \n",
       "Date                     \n",
       "2014-09-17     21056800  \n",
       "2014-09-18     34483200  \n",
       "2014-09-19     37919700  \n",
       "2014-09-20     36863600  \n",
       "2014-09-21     26580100  \n",
       "...                 ...  \n",
       "2020-07-05  12903406143  \n",
       "2020-07-06  17889263252  \n",
       "2020-07-07  13839652595  \n",
       "2020-07-08  19702359883  \n",
       "2020-07-09  18319519744  \n",
       "\n",
       "[2123 rows x 6 columns]"
      ]
     },
     "execution_count": 2,
     "metadata": {},
     "output_type": "execute_result"
    }
   ],
   "source": [
    "dataraw = pd.read_csv('BTC-USD.csv',index_col='Date', parse_dates=['Date'])\n",
    "dataraw"
   ]
  },
  {
   "cell_type": "markdown",
   "metadata": {},
   "source": [
    "# Feature Selection"
   ]
  },
  {
   "cell_type": "code",
   "execution_count": 3,
   "metadata": {},
   "outputs": [
    {
     "name": "stdout",
     "output_type": "stream",
     "text": [
      "              Close\n",
      "count   2123.000000\n",
      "mean    4190.018268\n",
      "std     4030.549406\n",
      "min      178.102997\n",
      "25%      424.749496\n",
      "50%     3378.939941\n",
      "75%     7531.821777\n",
      "max    19497.400390\n",
      " Count row of data:  2123\n"
     ]
    }
   ],
   "source": [
    "# use feature 'Date' & 'Close'\n",
    "dataset = pd.DataFrame(dataraw['Close'])\n",
    "print(dataset.describe())\n",
    "print(' Count row of data: ',len(dataset))"
   ]
  },
  {
   "cell_type": "markdown",
   "metadata": {},
   "source": [
    "# Preprocessing Data"
   ]
  },
  {
   "cell_type": "markdown",
   "metadata": {},
   "source": [
    "### Normalization Min-Max"
   ]
  },
  {
   "cell_type": "code",
   "execution_count": 4,
   "metadata": {},
   "outputs": [
    {
     "data": {
      "text/html": [
       "<div>\n",
       "<style scoped>\n",
       "    .dataframe tbody tr th:only-of-type {\n",
       "        vertical-align: middle;\n",
       "    }\n",
       "\n",
       "    .dataframe tbody tr th {\n",
       "        vertical-align: top;\n",
       "    }\n",
       "\n",
       "    .dataframe thead th {\n",
       "        text-align: right;\n",
       "    }\n",
       "</style>\n",
       "<table border=\"1\" class=\"dataframe\">\n",
       "  <thead>\n",
       "    <tr style=\"text-align: right;\">\n",
       "      <th></th>\n",
       "      <th>Close</th>\n",
       "    </tr>\n",
       "    <tr>\n",
       "      <th>Date</th>\n",
       "      <th></th>\n",
       "    </tr>\n",
       "  </thead>\n",
       "  <tbody>\n",
       "    <tr>\n",
       "      <td>2014-09-17</td>\n",
       "      <td>0.014453</td>\n",
       "    </tr>\n",
       "    <tr>\n",
       "      <td>2014-09-18</td>\n",
       "      <td>0.012751</td>\n",
       "    </tr>\n",
       "    <tr>\n",
       "      <td>2014-09-19</td>\n",
       "      <td>0.011216</td>\n",
       "    </tr>\n",
       "    <tr>\n",
       "      <td>2014-09-20</td>\n",
       "      <td>0.011947</td>\n",
       "    </tr>\n",
       "    <tr>\n",
       "      <td>2014-09-21</td>\n",
       "      <td>0.011425</td>\n",
       "    </tr>\n",
       "    <tr>\n",
       "      <td>...</td>\n",
       "      <td>...</td>\n",
       "    </tr>\n",
       "    <tr>\n",
       "      <td>2020-07-05</td>\n",
       "      <td>0.460464</td>\n",
       "    </tr>\n",
       "    <tr>\n",
       "      <td>2020-07-06</td>\n",
       "      <td>0.476072</td>\n",
       "    </tr>\n",
       "    <tr>\n",
       "      <td>2020-07-07</td>\n",
       "      <td>0.469695</td>\n",
       "    </tr>\n",
       "    <tr>\n",
       "      <td>2020-07-08</td>\n",
       "      <td>0.478808</td>\n",
       "    </tr>\n",
       "    <tr>\n",
       "      <td>2020-07-09</td>\n",
       "      <td>0.475121</td>\n",
       "    </tr>\n",
       "  </tbody>\n",
       "</table>\n",
       "<p>2123 rows × 1 columns</p>\n",
       "</div>"
      ],
      "text/plain": [
       "               Close\n",
       "Date                \n",
       "2014-09-17  0.014453\n",
       "2014-09-18  0.012751\n",
       "2014-09-19  0.011216\n",
       "2014-09-20  0.011947\n",
       "2014-09-21  0.011425\n",
       "...              ...\n",
       "2020-07-05  0.460464\n",
       "2020-07-06  0.476072\n",
       "2020-07-07  0.469695\n",
       "2020-07-08  0.478808\n",
       "2020-07-09  0.475121\n",
       "\n",
       "[2123 rows x 1 columns]"
      ]
     },
     "execution_count": 4,
     "metadata": {},
     "output_type": "execute_result"
    }
   ],
   "source": [
    "#Min-Max Normalization\n",
    "dataset_norm = dataset.copy()\n",
    "dataset[['Close']]\n",
    "scaler = MinMaxScaler()\n",
    "dataset_norm['Close'] = scaler.fit_transform(dataset[['Close']])\n",
    "dataset_norm"
   ]
  },
  {
   "cell_type": "markdown",
   "metadata": {},
   "source": [
    "### Graph Data Normalized"
   ]
  },
  {
   "cell_type": "code",
   "execution_count": 5,
   "metadata": {},
   "outputs": [
    {
     "name": "stderr",
     "output_type": "stream",
     "text": [
      "D:\\application\\Anaconda\\lib\\site-packages\\pandas\\plotting\\_matplotlib\\converter.py:103: FutureWarning: Using an implicitly registered datetime converter for a matplotlib plotting method. The converter was registered by pandas on import. Future versions of pandas will require you to explicitly register matplotlib converters.\n",
      "\n",
      "To register the converters:\n",
      "\t>>> from pandas.plotting import register_matplotlib_converters\n",
      "\t>>> register_matplotlib_converters()\n",
      "  warnings.warn(msg, FutureWarning)\n"
     ]
    },
    {
     "data": {
      "image/png": "[encoded data removed]",
      "text/plain": [
       "<Figure size 720x288 with 1 Axes>"
      ]
     },
     "metadata": {
      "needs_background": "light"
     },
     "output_type": "display_data"
    }
   ],
   "source": [
    "fig = plt.figure(figsize=(10, 4))\n",
    "plt.plot(dataset_norm)\n",
    "plt.xlabel('Date')\n",
    "plt.gca().xaxis.set_major_formatter(mdates.DateFormatter(\"%Y-%m\"))\n",
    "plt.title('Data Normalized')\n",
    "plt.show()"
   ]
  },
  {
   "cell_type": "markdown",
   "metadata": {},
   "source": [
    "# Data Partition"
   ]
  },
  {
   "cell_type": "code",
   "execution_count": 6,
   "metadata": {},
   "outputs": [],
   "source": [
    "# Partition data into data train, val & test\n",
    "totaldata = dataset.values\n",
    "totaldatatrain = int(len(totaldata)*0.7)\n",
    "totaldataval = int(len(totaldata)*0.1)\n",
    "totaldatatest = int(len(totaldata)*0.2)\n",
    "\n",
    "# Store data into each partition\n",
    "training_set = dataset_norm[0:totaldatatrain]\n",
    "val_set=dataset_norm[totaldatatrain:totaldatatrain+totaldataval]\n",
    "test_set = dataset_norm[totaldatatrain+totaldataval:]"
   ]
  },
  {
   "cell_type": "markdown",
   "metadata": {},
   "source": [
    "# Graph Training Data"
   ]
  },
  {
   "cell_type": "code",
   "execution_count": 7,
   "metadata": {
    "scrolled": false
   },
   "outputs": [
    {
     "data": {
      "image/png": "[encoded data removed]",
      "text/plain": [
       "<Figure size 720x288 with 1 Axes>"
      ]
     },
     "metadata": {
      "needs_background": "light"
     },
     "output_type": "display_data"
    }
   ],
   "source": [
    "# graph data training\n",
    "fig = plt.figure(figsize=(10, 4))\n",
    "plt.plot(training_set)\n",
    "plt.xlabel('Tanggal')\n",
    "plt.gca().xaxis.set_major_formatter(mdates.DateFormatter(\"%Y-%m\"))\n",
    "plt.title('Data Training')\n",
    "plt.show()"
   ]
  },
  {
   "cell_type": "markdown",
   "metadata": {},
   "source": [
    "# Grafik Data Validation"
   ]
  },
  {
   "cell_type": "code",
   "execution_count": 8,
   "metadata": {
    "scrolled": true
   },
   "outputs": [
    {
     "data": {
      "text/plain": [
       "Text(0.5, 1.0, 'Data Validation')"
      ]
     },
     "execution_count": 8,
     "metadata": {},
     "output_type": "execute_result"
    },
    {
     "data": {
      "image/png": "[encoded data removed]",
      "text/plain": [
       "<Figure size 720x288 with 1 Axes>"
      ]
     },
     "metadata": {
      "needs_background": "light"
     },
     "output_type": "display_data"
    }
   ],
   "source": [
    "# graph data validation\n",
    "fig = plt.figure(figsize=(10, 4))\n",
    "plt.plot(val_set)\n",
    "plt.xlabel('Date')\n",
    "plt.gca().xaxis.set_major_formatter(mdates.DateFormatter(\"%Y-%m\"))\n",
    "plt.title('Data Validation')"
   ]
  },
  {
   "cell_type": "markdown",
   "metadata": {},
   "source": [
    "# Grafik Data Test"
   ]
  },
  {
   "cell_type": "code",
   "execution_count": 9,
   "metadata": {},
   "outputs": [
    {
     "data": {
      "image/png": "[encoded data removed]",
      "text/plain": [
       "<Figure size 720x288 with 1 Axes>"
      ]
     },
     "metadata": {
      "needs_background": "light"
     },
     "output_type": "display_data"
    }
   ],
   "source": [
    "# graph data test\n",
    "fig = plt.figure(figsize=(10, 4))\n",
    "plt.plot(test_set)\n",
    "plt.xlabel('Tanggal')\n",
    "plt.gca().xaxis.set_major_formatter(mdates.DateFormatter(\"%Y-%m\"))\n",
    "plt.title('Data Test')\n",
    "plt.show()"
   ]
  },
  {
   "cell_type": "markdown",
   "metadata": {},
   "source": [
    "# Sliding Windows"
   ]
  },
  {
   "cell_type": "code",
   "execution_count": 10,
   "metadata": {},
   "outputs": [],
   "source": [
    "# Initiaton value of lag\n",
    "lag = 2\n",
    "# Fungsi sliding windows\n",
    "def create_sliding_windows(data,len_data,lag):\n",
    "    x=[]\n",
    "    y=[]\n",
    "    for i in range(lag,len_data):\n",
    "        x.append(data[i-lag:i,0])\n",
    "        y.append(data[i,0]) \n",
    "    return np.array(x),np.array(y)\n",
    "\n",
    "# Formating data into array for create sliding windows\n",
    "array_training_set = np.array(training_set)\n",
    "array_val_set = np.array(val_set)\n",
    "array_test_set = np.array(test_set)\n",
    "\n",
    "# Create sliding windows into training data\n",
    "x_train, y_train = create_sliding_windows(array_training_set,len(array_training_set), lag)\n",
    "x_train = np.reshape(x_train, (x_train.shape[0],x_train.shape[1],1))\n",
    "# Create sliding windows into validation data\n",
    "x_val,y_val = create_sliding_windows(array_val_set,len(array_val_set),lag)\n",
    "x_val = np.reshape(x_val, (x_val.shape[0],x_val.shape[1],1))\n",
    "# Create sliding windows into test data\n",
    "x_test,y_test = create_sliding_windows(array_test_set,len(array_test_set),lag)\n",
    "x_test = np.reshape(x_test, (x_test.shape[0],x_test.shape[1],1))"
   ]
  },
  {
   "cell_type": "markdown",
   "metadata": {},
   "source": [
    "# Model GRU"
   ]
  },
  {
   "cell_type": "code",
   "execution_count": 11,
   "metadata": {},
   "outputs": [
    {
     "name": "stdout",
     "output_type": "stream",
     "text": [
      "Train on 1484 samples, validate on 210 samples\n",
      "Epoch 1/100\n",
      "1484/1484 [==============================] - 2s 2ms/step - loss: 0.0556 - val_loss: 0.0495\n",
      "Epoch 2/100\n",
      "1484/1484 [==============================] - 0s 212us/step - loss: 0.0519 - val_loss: 0.0445\n",
      "Epoch 3/100\n",
      "1484/1484 [==============================] - 0s 219us/step - loss: 0.0480 - val_loss: 0.0398\n",
      "Epoch 4/100\n",
      "1484/1484 [==============================] - 0s 193us/step - loss: 0.0446 - val_loss: 0.0352\n",
      "Epoch 5/100\n",
      "1484/1484 [==============================] - 0s 193us/step - loss: 0.0416 - val_loss: 0.0307\n",
      "Epoch 6/100\n",
      "1484/1484 [==============================] - 0s 187us/step - loss: 0.0381 - val_loss: 0.0266\n",
      "Epoch 7/100\n",
      "1484/1484 [==============================] - 0s 174us/step - loss: 0.0353 - val_loss: 0.0226\n",
      "Epoch 8/100\n",
      "1484/1484 [==============================] - 0s 182us/step - loss: 0.0326 - val_loss: 0.0189\n",
      "Epoch 9/100\n",
      "1484/1484 [==============================] - 0s 182us/step - loss: 0.0297 - val_loss: 0.0155\n",
      "Epoch 10/100\n",
      "1484/1484 [==============================] - 0s 182us/step - loss: 0.0276 - val_loss: 0.0125\n",
      "Epoch 11/100\n",
      "1484/1484 [==============================] - 0s 179us/step - loss: 0.0251 - val_loss: 0.0098\n",
      "Epoch 12/100\n",
      "1484/1484 [==============================] - 0s 196us/step - loss: 0.0234 - val_loss: 0.0076\n",
      "Epoch 13/100\n",
      "1484/1484 [==============================] - 0s 179us/step - loss: 0.0214 - val_loss: 0.0059\n",
      "Epoch 14/100\n",
      "1484/1484 [==============================] - 0s 169us/step - loss: 0.0200 - val_loss: 0.0045\n",
      "Epoch 15/100\n",
      "1484/1484 [==============================] - 0s 171us/step - loss: 0.0189 - val_loss: 0.0035\n",
      "Epoch 16/100\n",
      "1484/1484 [==============================] - 0s 177us/step - loss: 0.0175 - val_loss: 0.0029\n",
      "Epoch 17/100\n",
      "1484/1484 [==============================] - 0s 192us/step - loss: 0.0162 - val_loss: 0.0024\n",
      "Epoch 18/100\n",
      "1484/1484 [==============================] - 0s 177us/step - loss: 0.0147 - val_loss: 0.0020\n",
      "Epoch 19/100\n",
      "1484/1484 [==============================] - 0s 192us/step - loss: 0.0132 - val_loss: 0.0018\n",
      "Epoch 20/100\n",
      "1484/1484 [==============================] - 0s 186us/step - loss: 0.0121 - val_loss: 0.0016\n",
      "Epoch 21/100\n",
      "1484/1484 [==============================] - 0s 186us/step - loss: 0.0109 - val_loss: 0.0014\n",
      "Epoch 22/100\n",
      "1484/1484 [==============================] - 0s 179us/step - loss: 0.0090 - val_loss: 0.0013\n",
      "Epoch 23/100\n",
      "1484/1484 [==============================] - 0s 184us/step - loss: 0.0081 - val_loss: 0.0012\n",
      "Epoch 24/100\n",
      "1484/1484 [==============================] - 0s 195us/step - loss: 0.0068 - val_loss: 9.8036e-04\n",
      "Epoch 25/100\n",
      "1484/1484 [==============================] - 0s 189us/step - loss: 0.0056 - val_loss: 8.4964e-04\n",
      "Epoch 26/100\n",
      "1484/1484 [==============================] - 0s 179us/step - loss: 0.0042 - val_loss: 7.1604e-04\n",
      "Epoch 27/100\n",
      "1484/1484 [==============================] - 0s 177us/step - loss: 0.0035 - val_loss: 6.0039e-04\n",
      "Epoch 28/100\n",
      "1484/1484 [==============================] - 0s 167us/step - loss: 0.0031 - val_loss: 4.8396e-04\n",
      "Epoch 29/100\n",
      "1484/1484 [==============================] - 0s 184us/step - loss: 0.0022 - val_loss: 3.7115e-04\n",
      "Epoch 30/100\n",
      "1484/1484 [==============================] - 0s 179us/step - loss: 0.0017 - val_loss: 2.9927e-04\n",
      "Epoch 31/100\n",
      "1484/1484 [==============================] - 0s 183us/step - loss: 0.0018 - val_loss: 2.3430e-04\n",
      "Epoch 32/100\n",
      "1484/1484 [==============================] - 0s 190us/step - loss: 0.0015 - val_loss: 1.7942e-04\n",
      "Epoch 33/100\n",
      "1484/1484 [==============================] - 0s 230us/step - loss: 0.0014 - val_loss: 1.6009e-04\n",
      "Epoch 34/100\n",
      "1484/1484 [==============================] - 0s 190us/step - loss: 9.7601e-04 - val_loss: 1.4860e-04\n",
      "Epoch 35/100\n",
      "1484/1484 [==============================] - 0s 172us/step - loss: 0.0010 - val_loss: 1.4561e-04\n",
      "Epoch 36/100\n",
      "1484/1484 [==============================] - 0s 194us/step - loss: 0.0011 - val_loss: 1.4191e-04\n",
      "Epoch 37/100\n",
      "1484/1484 [==============================] - 0s 167us/step - loss: 0.0011 - val_loss: 1.3484e-04\n",
      "Epoch 38/100\n",
      "1484/1484 [==============================] - 0s 168us/step - loss: 0.0011 - val_loss: 1.3373e-04\n",
      "Epoch 39/100\n",
      "1484/1484 [==============================] - 0s 192us/step - loss: 8.6470e-04 - val_loss: 1.4388e-04\n",
      "Epoch 40/100\n",
      "1484/1484 [==============================] - 0s 185us/step - loss: 9.3435e-04 - val_loss: 1.5051e-04\n",
      "Epoch 41/100\n",
      "1484/1484 [==============================] - 0s 190us/step - loss: 0.0010 - val_loss: 1.4291e-04\n",
      "Epoch 42/100\n",
      "1484/1484 [==============================] - 0s 185us/step - loss: 0.0010 - val_loss: 1.3338e-04\n",
      "Epoch 43/100\n",
      "1484/1484 [==============================] - 0s 174us/step - loss: 0.0013 - val_loss: 1.3462e-04\n",
      "Epoch 44/100\n",
      "1484/1484 [==============================] - 0s 169us/step - loss: 0.0012 - val_loss: 1.5202e-04\n",
      "Epoch 45/100\n",
      "1484/1484 [==============================] - 0s 186us/step - loss: 9.6938e-04 - val_loss: 1.7191e-04\n",
      "Epoch 46/100\n",
      "1484/1484 [==============================] - 0s 167us/step - loss: 0.0010 - val_loss: 1.7178e-04\n",
      "Epoch 47/100\n",
      "1484/1484 [==============================] - 0s 169us/step - loss: 0.0011 - val_loss: 1.4785e-04\n",
      "Epoch 48/100\n",
      "1484/1484 [==============================] - 0s 173us/step - loss: 9.6672e-04 - val_loss: 1.4317e-04\n",
      "Epoch 49/100\n",
      "1484/1484 [==============================] - 0s 174us/step - loss: 0.0011 - val_loss: 1.3730e-04\n",
      "Epoch 50/100\n",
      "1484/1484 [==============================] - 0s 202us/step - loss: 0.0011 - val_loss: 1.2646e-04\n",
      "Epoch 51/100\n",
      "1484/1484 [==============================] - 0s 191us/step - loss: 0.0010 - val_loss: 1.3745e-04\n",
      "Epoch 52/100\n",
      "1484/1484 [==============================] - 0s 199us/step - loss: 0.0011 - val_loss: 1.4635e-04\n",
      "Epoch 53/100\n",
      "1484/1484 [==============================] - 0s 183us/step - loss: 0.0012 - val_loss: 1.4388e-04\n",
      "Epoch 54/100\n",
      "1484/1484 [==============================] - 0s 163us/step - loss: 8.8664e-04 - val_loss: 1.3757e-04\n",
      "Epoch 55/100\n",
      "1484/1484 [==============================] - 0s 160us/step - loss: 0.0011 - val_loss: 1.5305e-04\n",
      "Epoch 56/100\n",
      "1484/1484 [==============================] - 0s 182us/step - loss: 9.2686e-04 - val_loss: 1.4997e-04\n",
      "Epoch 57/100\n",
      "1484/1484 [==============================] - 0s 172us/step - loss: 9.0361e-04 - val_loss: 1.4722e-04\n",
      "Epoch 58/100\n",
      "1484/1484 [==============================] - 0s 182us/step - loss: 9.1067e-04 - val_loss: 1.3884e-04\n",
      "Epoch 59/100\n",
      "1484/1484 [==============================] - 0s 180us/step - loss: 0.0011 - val_loss: 1.3927e-04\n",
      "Epoch 60/100\n",
      "1484/1484 [==============================] - 0s 176us/step - loss: 9.6699e-04 - val_loss: 1.3286e-04\n",
      "Epoch 61/100\n",
      "1484/1484 [==============================] - 0s 165us/step - loss: 0.0010 - val_loss: 1.3480e-04\n",
      "Epoch 62/100\n",
      "1484/1484 [==============================] - 0s 190us/step - loss: 9.5388e-04 - val_loss: 1.5587e-04\n",
      "Epoch 63/100\n",
      "1484/1484 [==============================] - 0s 168us/step - loss: 0.0010 - val_loss: 1.6309e-04\n",
      "Epoch 64/100\n",
      "1484/1484 [==============================] - 0s 178us/step - loss: 9.3863e-04 - val_loss: 1.6086e-04\n",
      "Epoch 65/100\n",
      "1484/1484 [==============================] - 0s 188us/step - loss: 0.0012 - val_loss: 1.4053e-04\n",
      "Epoch 66/100\n",
      "1484/1484 [==============================] - 0s 177us/step - loss: 8.6597e-04 - val_loss: 1.4673e-04\n",
      "Epoch 67/100\n",
      "1484/1484 [==============================] - 0s 181us/step - loss: 9.8024e-04 - val_loss: 1.4944e-04\n",
      "Epoch 68/100\n",
      "1484/1484 [==============================] - 0s 196us/step - loss: 0.0011 - val_loss: 1.5648e-04\n",
      "Epoch 69/100\n",
      "1484/1484 [==============================] - 0s 215us/step - loss: 0.0011 - val_loss: 1.6429e-04\n",
      "Epoch 70/100\n",
      "1484/1484 [==============================] - 0s 180us/step - loss: 0.0012 - val_loss: 1.6808e-04\n",
      "Epoch 71/100\n",
      "1484/1484 [==============================] - 0s 161us/step - loss: 0.0011 - val_loss: 1.6759e-04\n",
      "Epoch 72/100\n",
      "1484/1484 [==============================] - 0s 193us/step - loss: 8.8485e-04 - val_loss: 1.5851e-04\n",
      "Epoch 73/100\n",
      "1484/1484 [==============================] - 0s 189us/step - loss: 0.0011 - val_loss: 1.5622e-04\n",
      "Epoch 74/100\n",
      "1484/1484 [==============================] - 0s 169us/step - loss: 9.5279e-04 - val_loss: 1.6477e-04\n",
      "Epoch 75/100\n",
      "1484/1484 [==============================] - 0s 183us/step - loss: 9.8545e-04 - val_loss: 1.4268e-04\n",
      "Epoch 76/100\n",
      "1484/1484 [==============================] - 0s 175us/step - loss: 9.5620e-04 - val_loss: 1.4893e-04\n",
      "Epoch 77/100\n",
      "1484/1484 [==============================] - 0s 181us/step - loss: 0.0011 - val_loss: 1.4476e-04\n",
      "Epoch 78/100\n",
      "1484/1484 [==============================] - 0s 183us/step - loss: 0.0011 - val_loss: 1.4167e-04\n",
      "Epoch 79/100\n",
      "1484/1484 [==============================] - 0s 181us/step - loss: 0.0011 - val_loss: 1.2102e-04\n",
      "Epoch 80/100\n",
      "1484/1484 [==============================] - 0s 209us/step - loss: 0.0011 - val_loss: 1.2452e-04\n",
      "Epoch 81/100\n",
      "1484/1484 [==============================] - 0s 202us/step - loss: 0.0012 - val_loss: 1.4495e-04\n",
      "Epoch 82/100\n",
      "1484/1484 [==============================] - 0s 182us/step - loss: 0.0011 - val_loss: 1.6080e-04\n",
      "Epoch 83/100\n",
      "1484/1484 [==============================] - 0s 180us/step - loss: 8.6481e-04 - val_loss: 1.4282e-04\n",
      "Epoch 84/100\n",
      "1484/1484 [==============================] - 0s 187us/step - loss: 9.3686e-04 - val_loss: 1.2247e-04\n",
      "Epoch 85/100\n",
      "1484/1484 [==============================] - 0s 198us/step - loss: 9.6184e-04 - val_loss: 1.2440e-04\n",
      "Epoch 86/100\n",
      "1484/1484 [==============================] - 0s 204us/step - loss: 9.2772e-04 - val_loss: 1.2914e-04\n",
      "Epoch 87/100\n",
      "1484/1484 [==============================] - 0s 179us/step - loss: 0.0010 - val_loss: 1.3534e-04\n",
      "Epoch 88/100\n",
      "1484/1484 [==============================] - 0s 168us/step - loss: 0.0011 - val_loss: 1.2757e-04\n",
      "Epoch 89/100\n",
      "1484/1484 [==============================] - 0s 231us/step - loss: 9.5159e-04 - val_loss: 1.1487e-04\n",
      "Epoch 90/100\n",
      "1484/1484 [==============================] - 0s 198us/step - loss: 9.8999e-04 - val_loss: 1.1796e-04\n",
      "Epoch 91/100\n",
      "1484/1484 [==============================] - 0s 173us/step - loss: 0.0010 - val_loss: 1.2168e-04\n",
      "Epoch 92/100\n",
      "1484/1484 [==============================] - 0s 170us/step - loss: 0.0011 - val_loss: 1.3131e-04\n",
      "Epoch 93/100\n",
      "1484/1484 [==============================] - 0s 172us/step - loss: 0.0011 - val_loss: 1.2094e-04\n",
      "Epoch 94/100\n",
      "1484/1484 [==============================] - 0s 166us/step - loss: 9.6573e-04 - val_loss: 1.1200e-04\n",
      "Epoch 95/100\n",
      "1484/1484 [==============================] - 0s 194us/step - loss: 9.8668e-04 - val_loss: 1.0773e-04\n",
      "Epoch 96/100\n",
      "1484/1484 [==============================] - 0s 174us/step - loss: 9.6544e-04 - val_loss: 1.1870e-04\n",
      "Epoch 97/100\n",
      "1484/1484 [==============================] - 0s 171us/step - loss: 8.8710e-04 - val_loss: 1.2581e-04\n",
      "Epoch 98/100\n",
      "1484/1484 [==============================] - 0s 190us/step - loss: 9.8859e-04 - val_loss: 1.1934e-04\n",
      "Epoch 99/100\n",
      "1484/1484 [==============================] - 0s 177us/step - loss: 0.0011 - val_loss: 1.2387e-04\n",
      "Epoch 100/100\n",
      "1484/1484 [==============================] - 0s 181us/step - loss: 8.2768e-04 - val_loss: 1.2869e-04\n"
     ]
    }
   ],
   "source": [
    "# Hyperparameters\n",
    "learning_rate = 0.0001\n",
    "hidden_unit = 64\n",
    "batch_size=256\n",
    "epoch = 100\n",
    "\n",
    "# Architecture Gated Recurrent Unit\n",
    "regressorGRU = Sequential()\n",
    "\n",
    "# First GRU layer with dropout\n",
    "regressorGRU.add(GRU(units=hidden_unit, return_sequences=True, input_shape=(x_train.shape[1],1), activation = 'tanh'))\n",
    "regressorGRU.add(Dropout(0.2))\n",
    "# Second GRU layer with dropout\n",
    "regressorGRU.add(GRU(units=hidden_unit, return_sequences=True, activation = 'tanh'))\n",
    "regressorGRU.add(Dropout(0.2))\n",
    "# Third GRU layer with dropout\n",
    "regressorGRU.add(GRU(units=hidden_unit, return_sequences=False, activation = 'tanh'))\n",
    "regressorGRU.add(Dropout(0.2))\n",
    "\n",
    "# Output layer\n",
    "regressorGRU.add(Dense(units=1))\n",
    "\n",
    "# Compiling the Gated Recurrent Unit\n",
    "regressorGRU.compile(optimizer=optimizers.adam(lr=learning_rate),loss='mean_squared_error')\n",
    "\n",
    "# Fitting ke data training dan data validation\n",
    "pred = regressorGRU.fit(x_train, y_train, validation_data=(x_val,y_val), batch_size=batch_size, epochs=epoch)"
   ]
  },
  {
   "cell_type": "markdown",
   "metadata": {},
   "source": [
    "## Graph training loss & validation loss"
   ]
  },
  {
   "cell_type": "code",
   "execution_count": 12,
   "metadata": {
    "scrolled": false
   },
   "outputs": [
    {
     "data": {
      "image/png": "[encoded data removed]",
      "text/plain": [
       "<Figure size 720x288 with 1 Axes>"
      ]
     },
     "metadata": {
      "needs_background": "light"
     },
     "output_type": "display_data"
    }
   ],
   "source": [
    "# Graph model loss (train loss & val loss)\n",
    "fig = plt.figure(figsize=(10, 4))\n",
    "plt.plot(pred.history['loss'], label='train loss')\n",
    "plt.plot(pred.history['val_loss'], label='val loss')\n",
    "plt.title('model loss')\n",
    "plt.ylabel('loss')\n",
    "plt.xlabel('epoch')\n",
    "plt.legend(loc='upper right')\n",
    "plt.show()"
   ]
  },
  {
   "cell_type": "markdown",
   "metadata": {},
   "source": [
    "# Tabel Training Loss & Validation Loss"
   ]
  },
  {
   "cell_type": "code",
   "execution_count": 13,
   "metadata": {},
   "outputs": [
    {
     "data": {
      "text/html": [
       "<div>\n",
       "<style scoped>\n",
       "    .dataframe tbody tr th:only-of-type {\n",
       "        vertical-align: middle;\n",
       "    }\n",
       "\n",
       "    .dataframe tbody tr th {\n",
       "        vertical-align: top;\n",
       "    }\n",
       "\n",
       "    .dataframe thead th {\n",
       "        text-align: right;\n",
       "    }\n",
       "</style>\n",
       "<table border=\"1\" class=\"dataframe\">\n",
       "  <thead>\n",
       "    <tr style=\"text-align: right;\">\n",
       "      <th></th>\n",
       "      <th>Training Loss</th>\n",
       "      <th>Validation Loss</th>\n",
       "    </tr>\n",
       "    <tr>\n",
       "      <th>Learning Rate</th>\n",
       "      <th></th>\n",
       "      <th></th>\n",
       "    </tr>\n",
       "  </thead>\n",
       "  <tbody>\n",
       "    <tr>\n",
       "      <td>0.0001</td>\n",
       "      <td>0.000828</td>\n",
       "      <td>0.000129</td>\n",
       "    </tr>\n",
       "  </tbody>\n",
       "</table>\n",
       "</div>"
      ],
      "text/plain": [
       "               Training Loss  Validation Loss\n",
       "Learning Rate                                \n",
       "0.0001              0.000828         0.000129"
      ]
     },
     "execution_count": 13,
     "metadata": {},
     "output_type": "execute_result"
    }
   ],
   "source": [
    "# Tabel value of training loss & validation loss\n",
    "learningrate_parameter = learning_rate\n",
    "train_loss=pred.history['loss'][-1]\n",
    "validation_loss=pred.history['val_loss'][-1]\n",
    "learningrate_parameter=pd.DataFrame(data=[[learningrate_parameter, train_loss, validation_loss]],\n",
    "                                    columns=['Learning Rate', 'Training Loss', 'Validation Loss'])\n",
    "learningrate_parameter.set_index('Learning Rate')"
   ]
  },
  {
   "cell_type": "markdown",
   "metadata": {},
   "source": [
    "# Implementation model into data test"
   ]
  },
  {
   "cell_type": "code",
   "execution_count": 14,
   "metadata": {
    "scrolled": true
   },
   "outputs": [],
   "source": [
    "# Implementation model into data test\n",
    "y_pred_test = regressorGRU.predict(x_test)\n",
    "\n",
    "# Invert normalization min-max\n",
    "y_pred_invert_norm = scaler.inverse_transform(y_pred_test)\n"
   ]
  },
  {
   "cell_type": "markdown",
   "metadata": {},
   "source": [
    "# Comparasion data test with prediction results"
   ]
  },
  {
   "cell_type": "code",
   "execution_count": 15,
   "metadata": {},
   "outputs": [
    {
     "data": {
      "text/html": [
       "<div>\n",
       "<style scoped>\n",
       "    .dataframe tbody tr th:only-of-type {\n",
       "        vertical-align: middle;\n",
       "    }\n",
       "\n",
       "    .dataframe tbody tr th {\n",
       "        vertical-align: top;\n",
       "    }\n",
       "\n",
       "    .dataframe thead th {\n",
       "        text-align: right;\n",
       "    }\n",
       "</style>\n",
       "<table border=\"1\" class=\"dataframe\">\n",
       "  <thead>\n",
       "    <tr style=\"text-align: right;\">\n",
       "      <th></th>\n",
       "      <th>Data Test</th>\n",
       "      <th>Prediction Results</th>\n",
       "    </tr>\n",
       "  </thead>\n",
       "  <tbody>\n",
       "    <tr>\n",
       "      <td>0</td>\n",
       "      <td>7994.416016</td>\n",
       "      <td>7100.946777</td>\n",
       "    </tr>\n",
       "    <tr>\n",
       "      <td>1</td>\n",
       "      <td>8205.167969</td>\n",
       "      <td>7735.155762</td>\n",
       "    </tr>\n",
       "    <tr>\n",
       "      <td>2</td>\n",
       "      <td>7884.909180</td>\n",
       "      <td>7924.945801</td>\n",
       "    </tr>\n",
       "    <tr>\n",
       "      <td>3</td>\n",
       "      <td>7343.895508</td>\n",
       "      <td>7968.740234</td>\n",
       "    </tr>\n",
       "    <tr>\n",
       "      <td>4</td>\n",
       "      <td>7271.208008</td>\n",
       "      <td>7578.303223</td>\n",
       "    </tr>\n",
       "    <tr>\n",
       "      <td>...</td>\n",
       "      <td>...</td>\n",
       "      <td>...</td>\n",
       "    </tr>\n",
       "    <tr>\n",
       "      <td>418</td>\n",
       "      <td>9073.942383</td>\n",
       "      <td>8971.585938</td>\n",
       "    </tr>\n",
       "    <tr>\n",
       "      <td>419</td>\n",
       "      <td>9375.474609</td>\n",
       "      <td>8984.197266</td>\n",
       "    </tr>\n",
       "    <tr>\n",
       "      <td>420</td>\n",
       "      <td>9252.277344</td>\n",
       "      <td>9039.548828</td>\n",
       "    </tr>\n",
       "    <tr>\n",
       "      <td>421</td>\n",
       "      <td>9428.333008</td>\n",
       "      <td>9208.788086</td>\n",
       "    </tr>\n",
       "    <tr>\n",
       "      <td>422</td>\n",
       "      <td>9357.105469</td>\n",
       "      <td>9179.608398</td>\n",
       "    </tr>\n",
       "  </tbody>\n",
       "</table>\n",
       "<p>423 rows × 2 columns</p>\n",
       "</div>"
      ],
      "text/plain": [
       "       Data Test  Prediction Results\n",
       "0    7994.416016         7100.946777\n",
       "1    8205.167969         7735.155762\n",
       "2    7884.909180         7924.945801\n",
       "3    7343.895508         7968.740234\n",
       "4    7271.208008         7578.303223\n",
       "..           ...                 ...\n",
       "418  9073.942383         8971.585938\n",
       "419  9375.474609         8984.197266\n",
       "420  9252.277344         9039.548828\n",
       "421  9428.333008         9208.788086\n",
       "422  9357.105469         9179.608398\n",
       "\n",
       "[423 rows x 2 columns]"
      ]
     },
     "execution_count": 15,
     "metadata": {},
     "output_type": "execute_result"
    }
   ],
   "source": [
    "# Comparasion data test with data prediction\n",
    "databanding = pd.DataFrame()\n",
    "datatest=np.array(dataset['Close'][totaldatatrain+totaldataval+lag:])\n",
    "datapred= y_pred_invert_norm\n",
    "\n",
    "databanding['Data Test'] = datatest\n",
    "databanding['Prediction Results'] = datapred\n",
    "databanding"
   ]
  },
  {
   "cell_type": "markdown",
   "metadata": {},
   "source": [
    "## Evaluasi Hasil Prediksi"
   ]
  },
  {
   "cell_type": "code",
   "execution_count": 16,
   "metadata": {
    "scrolled": false
   },
   "outputs": [
    {
     "name": "stdout",
     "output_type": "stream",
     "text": [
      "Hasil Root Mean Square Error model prediksi : 1994.7003\n",
      "Hasil Mean Absolute Percentage Error :  18.5992 %\n"
     ]
    }
   ],
   "source": [
    "# Calculatre value of Root Mean Square Error \n",
    "def rmse(datatest, datapred):\n",
    "    return np.round(np.sqrt(np.mean((datapred - datatest) ** 2)), 4)\n",
    "print('Hasil Root Mean Square Error model prediksi :',rmse(datatest, datapred))\n",
    "\n",
    "def mape(datatest, datapred): \n",
    "    return np.round(np.mean(np.abs((datatest - datapred) / datatest) * 100), 4)\n",
    "    \n",
    "print('Hasil Mean Absolute Percentage Error : ', mape(datatest, datapred), '%')"
   ]
  },
  {
   "cell_type": "code",
   "execution_count": 17,
   "metadata": {},
   "outputs": [
    {
     "data": {
      "image/png": "[encoded data removed]",
      "text/plain": [
       "<Figure size 800x320 with 1 Axes>"
      ]
     },
     "metadata": {},
     "output_type": "display_data"
    }
   ],
   "source": [
    "# Create graph data test and prediction result\n",
    "plt.figure(num=None, figsize=(10, 4), dpi=80,facecolor='w', edgecolor='k')\n",
    "plt.title('Graph Comparasion Data Actual and Data Prediction')\n",
    "plt.plot(databanding['Data Test'], color='red',label='Data Test')\n",
    "plt.plot(databanding['Prediction Results'], color='blue',label='Prediction Results')\n",
    "plt.xlabel('Hari')\n",
    "plt.ylabel('Kg')\n",
    "plt.legend()\n",
    "plt.show()\n"
   ]
  }
 ],
 "metadata": {
  "kernelspec": {
   "display_name": "Python 3",
   "language": "python",
   "name": "python3"
  },
  "language_info": {
   "codemirror_mode": {
    "name": "ipython",
    "version": 3
   },
   "file_extension": ".py",
   "mimetype": "text/x-python",
   "name": "python",
   "nbconvert_exporter": "python",
   "pygments_lexer": "ipython3",
   "version": "3.7.3"
  }
 },
 "nbformat": 4,
 "nbformat_minor": 2
}
